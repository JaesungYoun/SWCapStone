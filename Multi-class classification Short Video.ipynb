{
 "cells": [
  {
   "cell_type": "code",
   "execution_count": 10,
   "metadata": {},
   "outputs": [],
   "source": [
    "import numpy as np\n",
    "import pandas as pd\n",
    "from scipy import io\n",
    "from pandas import DataFrame\n",
    "import matplotlib.pyplot as plt\n",
    "from sklearn.linear_model import LinearRegression\n",
    "from sklearn.model_selection import train_test_split\n",
    "from sklearn.model_selection import cross_val_score\n",
    "from sklearn.model_selection import GridSearchCV\n",
    "from sklearn.preprocessing import StandardScaler, RobustScaler\n",
    "import seaborn as sns\n",
    "import scipy\n",
    "import warnings\n",
    "from sklearn.metrics import classification_report\n",
    "warnings.filterwarnings('ignore')"
   ]
  },
  {
   "cell_type": "code",
   "execution_count": 2,
   "metadata": {},
   "outputs": [],
   "source": [
    "data = pd.read_csv('Feature_dataset_short.csv')\n",
    "label_data = pd.read_csv('label_av_short.csv')"
   ]
  },
  {
   "cell_type": "code",
   "execution_count": 3,
   "metadata": {},
   "outputs": [
    {
     "data": {
      "text/html": [
       "<div>\n",
       "<style scoped>\n",
       "    .dataframe tbody tr th:only-of-type {\n",
       "        vertical-align: middle;\n",
       "    }\n",
       "\n",
       "    .dataframe tbody tr th {\n",
       "        vertical-align: top;\n",
       "    }\n",
       "\n",
       "    .dataframe thead th {\n",
       "        text-align: right;\n",
       "    }\n",
       "</style>\n",
       "<table border=\"1\" class=\"dataframe\">\n",
       "  <thead>\n",
       "    <tr style=\"text-align: right;\">\n",
       "      <th></th>\n",
       "      <th>MEAN</th>\n",
       "      <th>MED</th>\n",
       "      <th>MIN</th>\n",
       "      <th>MAX</th>\n",
       "      <th>STD</th>\n",
       "      <th>VAR</th>\n",
       "      <th>SKW</th>\n",
       "      <th>KURT</th>\n",
       "      <th>SE</th>\n",
       "      <th>LEE</th>\n",
       "      <th>PEAKS</th>\n",
       "    </tr>\n",
       "  </thead>\n",
       "  <tbody>\n",
       "    <tr>\n",
       "      <th>0</th>\n",
       "      <td>375360.503664</td>\n",
       "      <td>378831.032486</td>\n",
       "      <td>-25212.644397</td>\n",
       "      <td>404458.558442</td>\n",
       "      <td>19148.071055</td>\n",
       "      <td>3.666486e+08</td>\n",
       "      <td>-3.998082</td>\n",
       "      <td>68.427342</td>\n",
       "      <td>18.813147</td>\n",
       "      <td>-9.406574</td>\n",
       "      <td>2825</td>\n",
       "    </tr>\n",
       "    <tr>\n",
       "      <th>1</th>\n",
       "      <td>414545.406197</td>\n",
       "      <td>413947.983165</td>\n",
       "      <td>367322.652605</td>\n",
       "      <td>475720.249705</td>\n",
       "      <td>30325.434445</td>\n",
       "      <td>9.196320e+08</td>\n",
       "      <td>0.453521</td>\n",
       "      <td>-0.827522</td>\n",
       "      <td>17.750236</td>\n",
       "      <td>-8.875118</td>\n",
       "      <td>1714</td>\n",
       "    </tr>\n",
       "    <tr>\n",
       "      <th>2</th>\n",
       "      <td>357804.430349</td>\n",
       "      <td>365321.709630</td>\n",
       "      <td>272774.357528</td>\n",
       "      <td>415386.030442</td>\n",
       "      <td>38342.335960</td>\n",
       "      <td>1.470135e+09</td>\n",
       "      <td>-0.601898</td>\n",
       "      <td>-0.661127</td>\n",
       "      <td>19.267139</td>\n",
       "      <td>-9.633569</td>\n",
       "      <td>3690</td>\n",
       "    </tr>\n",
       "    <tr>\n",
       "      <th>3</th>\n",
       "      <td>270967.004896</td>\n",
       "      <td>266974.123043</td>\n",
       "      <td>118824.844400</td>\n",
       "      <td>426344.200570</td>\n",
       "      <td>35526.441049</td>\n",
       "      <td>1.262128e+09</td>\n",
       "      <td>0.131543</td>\n",
       "      <td>-1.228120</td>\n",
       "      <td>18.464975</td>\n",
       "      <td>-9.232487</td>\n",
       "      <td>2405</td>\n",
       "    </tr>\n",
       "    <tr>\n",
       "      <th>4</th>\n",
       "      <td>292836.248774</td>\n",
       "      <td>293589.005572</td>\n",
       "      <td>118920.693012</td>\n",
       "      <td>346159.579310</td>\n",
       "      <td>30110.284158</td>\n",
       "      <td>9.066292e+08</td>\n",
       "      <td>-0.337374</td>\n",
       "      <td>-0.406457</td>\n",
       "      <td>19.332744</td>\n",
       "      <td>-9.666372</td>\n",
       "      <td>3625</td>\n",
       "    </tr>\n",
       "    <tr>\n",
       "      <th>...</th>\n",
       "      <td>...</td>\n",
       "      <td>...</td>\n",
       "      <td>...</td>\n",
       "      <td>...</td>\n",
       "      <td>...</td>\n",
       "      <td>...</td>\n",
       "      <td>...</td>\n",
       "      <td>...</td>\n",
       "      <td>...</td>\n",
       "      <td>...</td>\n",
       "      <td>...</td>\n",
       "    </tr>\n",
       "    <tr>\n",
       "      <th>635</th>\n",
       "      <td>237212.360944</td>\n",
       "      <td>238766.270969</td>\n",
       "      <td>118471.132366</td>\n",
       "      <td>309191.223847</td>\n",
       "      <td>12000.220646</td>\n",
       "      <td>1.440053e+08</td>\n",
       "      <td>-1.299876</td>\n",
       "      <td>5.855401</td>\n",
       "      <td>18.711181</td>\n",
       "      <td>-9.355590</td>\n",
       "      <td>2629</td>\n",
       "    </tr>\n",
       "    <tr>\n",
       "      <th>636</th>\n",
       "      <td>259779.929563</td>\n",
       "      <td>262765.972743</td>\n",
       "      <td>118726.188960</td>\n",
       "      <td>309641.105647</td>\n",
       "      <td>12389.436547</td>\n",
       "      <td>1.534981e+08</td>\n",
       "      <td>-1.027166</td>\n",
       "      <td>2.326245</td>\n",
       "      <td>19.133679</td>\n",
       "      <td>-9.566840</td>\n",
       "      <td>3312</td>\n",
       "    </tr>\n",
       "    <tr>\n",
       "      <th>637</th>\n",
       "      <td>304222.323747</td>\n",
       "      <td>305037.377255</td>\n",
       "      <td>255116.966827</td>\n",
       "      <td>353058.505768</td>\n",
       "      <td>17810.813130</td>\n",
       "      <td>3.172251e+08</td>\n",
       "      <td>0.035763</td>\n",
       "      <td>0.708773</td>\n",
       "      <td>18.005494</td>\n",
       "      <td>-9.002747</td>\n",
       "      <td>1781</td>\n",
       "    </tr>\n",
       "    <tr>\n",
       "      <th>638</th>\n",
       "      <td>183752.699074</td>\n",
       "      <td>183267.263203</td>\n",
       "      <td>139805.101823</td>\n",
       "      <td>324330.038025</td>\n",
       "      <td>13977.160568</td>\n",
       "      <td>1.953610e+08</td>\n",
       "      <td>0.505327</td>\n",
       "      <td>5.230169</td>\n",
       "      <td>18.929439</td>\n",
       "      <td>-9.464720</td>\n",
       "      <td>3069</td>\n",
       "    </tr>\n",
       "    <tr>\n",
       "      <th>639</th>\n",
       "      <td>192054.013798</td>\n",
       "      <td>194004.549114</td>\n",
       "      <td>149325.552113</td>\n",
       "      <td>214717.920548</td>\n",
       "      <td>13372.177847</td>\n",
       "      <td>1.788151e+08</td>\n",
       "      <td>-0.824149</td>\n",
       "      <td>0.694542</td>\n",
       "      <td>18.326404</td>\n",
       "      <td>-9.163202</td>\n",
       "      <td>2247</td>\n",
       "    </tr>\n",
       "  </tbody>\n",
       "</table>\n",
       "<p>640 rows × 11 columns</p>\n",
       "</div>"
      ],
      "text/plain": [
       "              MEAN            MED            MIN            MAX           STD  \\\n",
       "0    375360.503664  378831.032486  -25212.644397  404458.558442  19148.071055   \n",
       "1    414545.406197  413947.983165  367322.652605  475720.249705  30325.434445   \n",
       "2    357804.430349  365321.709630  272774.357528  415386.030442  38342.335960   \n",
       "3    270967.004896  266974.123043  118824.844400  426344.200570  35526.441049   \n",
       "4    292836.248774  293589.005572  118920.693012  346159.579310  30110.284158   \n",
       "..             ...            ...            ...            ...           ...   \n",
       "635  237212.360944  238766.270969  118471.132366  309191.223847  12000.220646   \n",
       "636  259779.929563  262765.972743  118726.188960  309641.105647  12389.436547   \n",
       "637  304222.323747  305037.377255  255116.966827  353058.505768  17810.813130   \n",
       "638  183752.699074  183267.263203  139805.101823  324330.038025  13977.160568   \n",
       "639  192054.013798  194004.549114  149325.552113  214717.920548  13372.177847   \n",
       "\n",
       "              VAR       SKW       KURT         SE       LEE  PEAKS  \n",
       "0    3.666486e+08 -3.998082  68.427342  18.813147 -9.406574   2825  \n",
       "1    9.196320e+08  0.453521  -0.827522  17.750236 -8.875118   1714  \n",
       "2    1.470135e+09 -0.601898  -0.661127  19.267139 -9.633569   3690  \n",
       "3    1.262128e+09  0.131543  -1.228120  18.464975 -9.232487   2405  \n",
       "4    9.066292e+08 -0.337374  -0.406457  19.332744 -9.666372   3625  \n",
       "..            ...       ...        ...        ...       ...    ...  \n",
       "635  1.440053e+08 -1.299876   5.855401  18.711181 -9.355590   2629  \n",
       "636  1.534981e+08 -1.027166   2.326245  19.133679 -9.566840   3312  \n",
       "637  3.172251e+08  0.035763   0.708773  18.005494 -9.002747   1781  \n",
       "638  1.953610e+08  0.505327   5.230169  18.929439 -9.464720   3069  \n",
       "639  1.788151e+08 -0.824149   0.694542  18.326404 -9.163202   2247  \n",
       "\n",
       "[640 rows x 11 columns]"
      ]
     },
     "execution_count": 3,
     "metadata": {},
     "output_type": "execute_result"
    }
   ],
   "source": [
    "data"
   ]
  },
  {
   "cell_type": "code",
   "execution_count": 4,
   "metadata": {
    "scrolled": true
   },
   "outputs": [
    {
     "data": {
      "text/html": [
       "<div>\n",
       "<style scoped>\n",
       "    .dataframe tbody tr th:only-of-type {\n",
       "        vertical-align: middle;\n",
       "    }\n",
       "\n",
       "    .dataframe tbody tr th {\n",
       "        vertical-align: top;\n",
       "    }\n",
       "\n",
       "    .dataframe thead th {\n",
       "        text-align: right;\n",
       "    }\n",
       "</style>\n",
       "<table border=\"1\" class=\"dataframe\">\n",
       "  <thead>\n",
       "    <tr style=\"text-align: right;\">\n",
       "      <th></th>\n",
       "      <th>AV</th>\n",
       "    </tr>\n",
       "  </thead>\n",
       "  <tbody>\n",
       "    <tr>\n",
       "      <th>0</th>\n",
       "      <td>LAHV</td>\n",
       "    </tr>\n",
       "    <tr>\n",
       "      <th>1</th>\n",
       "      <td>LAHV</td>\n",
       "    </tr>\n",
       "    <tr>\n",
       "      <th>2</th>\n",
       "      <td>HALV</td>\n",
       "    </tr>\n",
       "    <tr>\n",
       "      <th>3</th>\n",
       "      <td>LAHV</td>\n",
       "    </tr>\n",
       "    <tr>\n",
       "      <th>4</th>\n",
       "      <td>HALV</td>\n",
       "    </tr>\n",
       "    <tr>\n",
       "      <th>...</th>\n",
       "      <td>...</td>\n",
       "    </tr>\n",
       "    <tr>\n",
       "      <th>635</th>\n",
       "      <td>HAHV</td>\n",
       "    </tr>\n",
       "    <tr>\n",
       "      <th>636</th>\n",
       "      <td>HAHV</td>\n",
       "    </tr>\n",
       "    <tr>\n",
       "      <th>637</th>\n",
       "      <td>HAHV</td>\n",
       "    </tr>\n",
       "    <tr>\n",
       "      <th>638</th>\n",
       "      <td>HAHV</td>\n",
       "    </tr>\n",
       "    <tr>\n",
       "      <th>639</th>\n",
       "      <td>HAHV</td>\n",
       "    </tr>\n",
       "  </tbody>\n",
       "</table>\n",
       "<p>640 rows × 1 columns</p>\n",
       "</div>"
      ],
      "text/plain": [
       "       AV\n",
       "0    LAHV\n",
       "1    LAHV\n",
       "2    HALV\n",
       "3    LAHV\n",
       "4    HALV\n",
       "..    ...\n",
       "635  HAHV\n",
       "636  HAHV\n",
       "637  HAHV\n",
       "638  HAHV\n",
       "639  HAHV\n",
       "\n",
       "[640 rows x 1 columns]"
      ]
     },
     "execution_count": 4,
     "metadata": {},
     "output_type": "execute_result"
    }
   ],
   "source": [
    "label_data"
   ]
  },
  {
   "cell_type": "code",
   "execution_count": 5,
   "metadata": {},
   "outputs": [],
   "source": [
    "remove32 = data.drop(index = [636,637,638,639]) # 32번 참가자의 label 데이터가 없으므로 삭제하여 데이터 수 맞춰줌\n",
    "feature_data = remove32.dropna(axis=0) # GSR 신호가 없는 행 삭제 \n",
    "label = label_data.drop(index = [548,549,550,551]) # 28번 참가자의 GSR신호가 없으므로 해당 동영상 label 삭제하여 데이터 수 맞춰줌"
   ]
  },
  {
   "cell_type": "code",
   "execution_count": 22,
   "metadata": {},
   "outputs": [],
   "source": [
    "X = feature_data.values\n",
    "y = label.values"
   ]
  },
  {
   "cell_type": "code",
   "execution_count": 7,
   "metadata": {},
   "outputs": [],
   "source": [
    "X_train, X_test, y_train, y_test = train_test_split(X, y, test_size = 0.2, random_state = 125)"
   ]
  },
  {
   "cell_type": "code",
   "execution_count": 8,
   "metadata": {},
   "outputs": [
    {
     "data": {
      "text/plain": [
       "(508, 11)"
      ]
     },
     "execution_count": 8,
     "metadata": {},
     "output_type": "execute_result"
    }
   ],
   "source": [
    "X_train.shape"
   ]
  },
  {
   "cell_type": "code",
   "execution_count": 15,
   "metadata": {},
   "outputs": [
    {
     "name": "stdout",
     "output_type": "stream",
     "text": [
      "0.34639875752281113\n",
      "              precision    recall  f1-score   support\n",
      "\n",
      "        HAHV       0.28      0.55      0.37        38\n",
      "        HALV       0.31      0.36      0.34        44\n",
      "        LAHV       0.00      0.00      0.00        25\n",
      "        LALV       0.00      0.00      0.00        21\n",
      "\n",
      "    accuracy                           0.29       128\n",
      "   macro avg       0.15      0.23      0.18       128\n",
      "weighted avg       0.19      0.29      0.23       128\n",
      "\n"
     ]
    }
   ],
   "source": [
    "from sklearn.pipeline import Pipeline\n",
    "from sklearn.preprocessing import StandardScaler\n",
    "from sklearn.svm import LinearSVC\n",
    "\n",
    "SVCpipe = Pipeline([('scale', StandardScaler()),\n",
    "                  ('SVC',LinearSVC())])\n",
    "\n",
    "\n",
    "param_grid = {'SVC__C':np.arange(0.01,1000,10)}\n",
    "grid = GridSearchCV(SVCpipe,param_grid, cv=5,return_train_score=True)\n",
    "grid.fit(X_train,y_train)\n",
    "print(grid.best_score_)\n",
    "y_pred = grid.predict(X_test)\n",
    "\n",
    "print(classification_report(y_test, y_pred))"
   ]
  },
  {
   "cell_type": "code",
   "execution_count": null,
   "metadata": {},
   "outputs": [],
   "source": []
  },
  {
   "cell_type": "code",
   "execution_count": 11,
   "metadata": {},
   "outputs": [
    {
     "name": "stdout",
     "output_type": "stream",
     "text": [
      "{'RandomForest__max_depth': 6, 'RandomForest__n_estimators': 35}\n",
      "0.431100757134537\n"
     ]
    }
   ],
   "source": [
    "from sklearn.ensemble import RandomForestClassifier\n",
    "from sklearn.model_selection import cross_val_score\n",
    "from sklearn.metrics import accuracy_score\n",
    "\n",
    "\n",
    "rf = Pipeline([('scale', RobustScaler()),\n",
    "('RandomForest',RandomForestClassifier(random_state = 0))])\n",
    "\n",
    "\n",
    "param_grid = {'RandomForest__n_estimators': np.arange(10,120,5),'RandomForest__max_depth': np.arange(3,7)}\n",
    "grid = GridSearchCV(rf,param_grid, cv=5,return_train_score=True)\n",
    "\n",
    "grid.fit(X_train,y_train)\n",
    "print(grid.best_params_)\n",
    "print(grid.best_score_)\n"
   ]
  },
  {
   "cell_type": "code",
   "execution_count": 12,
   "metadata": {},
   "outputs": [
    {
     "name": "stdout",
     "output_type": "stream",
     "text": [
      "              precision    recall  f1-score   support\n",
      "\n",
      "        HAHV       0.45      0.55      0.49        38\n",
      "        HALV       0.51      0.73      0.60        44\n",
      "        LAHV       0.20      0.12      0.15        25\n",
      "        LALV       0.67      0.10      0.17        21\n",
      "\n",
      "    accuracy                           0.45       128\n",
      "   macro avg       0.46      0.37      0.35       128\n",
      "weighted avg       0.46      0.45      0.41       128\n",
      "\n"
     ]
    }
   ],
   "source": [
    "y_pred = grid.predict(X_test)\n",
    "\n",
    "print(classification_report(y_test, y_pred))"
   ]
  },
  {
   "cell_type": "code",
   "execution_count": 13,
   "metadata": {},
   "outputs": [],
   "source": [
    "rf = RandomForestClassifier(random_state=0)\n",
    "train_scores = []\n",
    "test_scores = []\n",
    "\n",
    "estimator_range = range(1, 100, 5)\n",
    "for n_estimators in estimator_range:\n",
    "    rf.n_estimators = n_estimators\n",
    "    rf.fit(X_train, y_train)\n",
    "    train_scores.append(rf.score(X_train, y_train))\n",
    "    test_scores.append(rf.score(X_test, y_test))"
   ]
  },
  {
   "cell_type": "code",
   "execution_count": 14,
   "metadata": {},
   "outputs": [
    {
     "data": {
      "text/plain": [
       "<matplotlib.legend.Legend at 0x18bbc452e20>"
      ]
     },
     "execution_count": 14,
     "metadata": {},
     "output_type": "execute_result"
    },
    {
     "data": {
      "image/png": "[encoded data removed]",
      "text/plain": [
       "<Figure size 432x288 with 1 Axes>"
      ]
     },
     "metadata": {
      "needs_background": "light"
     },
     "output_type": "display_data"
    }
   ],
   "source": [
    "plt.plot(estimator_range, test_scores, label=\"test scores\")\n",
    "plt.plot(estimator_range, train_scores, label=\"train scores\")\n",
    "plt.ylabel(\"accuracy\")\n",
    "plt.xlabel(\"n_estimators\")\n",
    "plt.legend()\n"
   ]
  },
  {
   "cell_type": "code",
   "execution_count": null,
   "metadata": {},
   "outputs": [],
   "source": []
  }
 ],
 "metadata": {
  "kernelspec": {
   "display_name": "Python 3",
   "language": "python",
   "name": "python3"
  },
  "language_info": {
   "codemirror_mode": {
    "name": "ipython",
    "version": 3
   },
   "file_extension": ".py",
   "mimetype": "text/x-python",
   "name": "python",
   "nbconvert_exporter": "python",
   "pygments_lexer": "ipython3",
   "version": "3.8.3"
  }
 },
 "nbformat": 4,
 "nbformat_minor": 4
}
