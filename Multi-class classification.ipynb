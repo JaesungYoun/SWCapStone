{
 "cells": [
  {
   "cell_type": "code",
   "execution_count": 20,
   "metadata": {},
   "outputs": [],
   "source": [
    "import numpy as np\n",
    "import pandas as pd\n",
    "from scipy import io\n",
    "from pandas import DataFrame\n",
    "import matplotlib.pyplot as plt\n",
    "from sklearn.linear_model import LinearRegression\n",
    "from sklearn.model_selection import train_test_split\n",
    "from sklearn.model_selection import cross_val_score\n",
    "from sklearn.model_selection import GridSearchCV\n",
    "from sklearn.preprocessing import StandardScaler, RobustScaler\n",
    "import seaborn as sns\n",
    "import scipy\n",
    "import warnings\n",
    "from sklearn.metrics import classification_report\n",
    "warnings.filterwarnings('ignore')"
   ]
  },
  {
   "cell_type": "code",
   "execution_count": 21,
   "metadata": {},
   "outputs": [],
   "source": [
    "data = pd.read_csv('Feature_dataset.csv')\n",
    "label_data = pd.read_csv('label_av.csv')"
   ]
  },
  {
   "cell_type": "code",
   "execution_count": 22,
   "metadata": {},
   "outputs": [
    {
     "data": {
      "text/html": [
       "<div>\n",
       "<style scoped>\n",
       "    .dataframe tbody tr th:only-of-type {\n",
       "        vertical-align: middle;\n",
       "    }\n",
       "\n",
       "    .dataframe tbody tr th {\n",
       "        vertical-align: top;\n",
       "    }\n",
       "\n",
       "    .dataframe thead th {\n",
       "        text-align: right;\n",
       "    }\n",
       "</style>\n",
       "<table border=\"1\" class=\"dataframe\">\n",
       "  <thead>\n",
       "    <tr style=\"text-align: right;\">\n",
       "      <th></th>\n",
       "      <th>MEAN</th>\n",
       "      <th>MED</th>\n",
       "      <th>MIN</th>\n",
       "      <th>MAX</th>\n",
       "      <th>STD</th>\n",
       "      <th>VAR</th>\n",
       "      <th>SKW</th>\n",
       "      <th>KURT</th>\n",
       "      <th>SE</th>\n",
       "      <th>LEE</th>\n",
       "      <th>PEAKS</th>\n",
       "    </tr>\n",
       "  </thead>\n",
       "  <tbody>\n",
       "    <tr>\n",
       "      <th>0</th>\n",
       "      <td>375360.503664</td>\n",
       "      <td>378831.032486</td>\n",
       "      <td>-25212.644397</td>\n",
       "      <td>404458.558442</td>\n",
       "      <td>19148.071055</td>\n",
       "      <td>3.666486e+08</td>\n",
       "      <td>-3.998082</td>\n",
       "      <td>68.427342</td>\n",
       "      <td>18.813147</td>\n",
       "      <td>-9.406574</td>\n",
       "      <td>2825</td>\n",
       "    </tr>\n",
       "    <tr>\n",
       "      <th>1</th>\n",
       "      <td>414545.406197</td>\n",
       "      <td>413947.983165</td>\n",
       "      <td>367322.652605</td>\n",
       "      <td>475720.249705</td>\n",
       "      <td>30325.434445</td>\n",
       "      <td>9.196320e+08</td>\n",
       "      <td>0.453521</td>\n",
       "      <td>-0.827522</td>\n",
       "      <td>17.750236</td>\n",
       "      <td>-8.875118</td>\n",
       "      <td>1714</td>\n",
       "    </tr>\n",
       "    <tr>\n",
       "      <th>2</th>\n",
       "      <td>357804.430349</td>\n",
       "      <td>365321.709630</td>\n",
       "      <td>272774.357528</td>\n",
       "      <td>415386.030442</td>\n",
       "      <td>38342.335960</td>\n",
       "      <td>1.470135e+09</td>\n",
       "      <td>-0.601898</td>\n",
       "      <td>-0.661127</td>\n",
       "      <td>19.267139</td>\n",
       "      <td>-9.633569</td>\n",
       "      <td>3690</td>\n",
       "    </tr>\n",
       "    <tr>\n",
       "      <th>3</th>\n",
       "      <td>270967.004896</td>\n",
       "      <td>266974.123043</td>\n",
       "      <td>118824.844400</td>\n",
       "      <td>426344.200570</td>\n",
       "      <td>35526.441049</td>\n",
       "      <td>1.262128e+09</td>\n",
       "      <td>0.131543</td>\n",
       "      <td>-1.228120</td>\n",
       "      <td>18.464975</td>\n",
       "      <td>-9.232487</td>\n",
       "      <td>2405</td>\n",
       "    </tr>\n",
       "    <tr>\n",
       "      <th>4</th>\n",
       "      <td>292836.248774</td>\n",
       "      <td>293589.005572</td>\n",
       "      <td>118920.693012</td>\n",
       "      <td>346159.579310</td>\n",
       "      <td>30110.284158</td>\n",
       "      <td>9.066292e+08</td>\n",
       "      <td>-0.337374</td>\n",
       "      <td>-0.406457</td>\n",
       "      <td>19.332744</td>\n",
       "      <td>-9.666372</td>\n",
       "      <td>3625</td>\n",
       "    </tr>\n",
       "    <tr>\n",
       "      <th>...</th>\n",
       "      <td>...</td>\n",
       "      <td>...</td>\n",
       "      <td>...</td>\n",
       "      <td>...</td>\n",
       "      <td>...</td>\n",
       "      <td>...</td>\n",
       "      <td>...</td>\n",
       "      <td>...</td>\n",
       "      <td>...</td>\n",
       "      <td>...</td>\n",
       "      <td>...</td>\n",
       "    </tr>\n",
       "    <tr>\n",
       "      <th>795</th>\n",
       "      <td>192054.013798</td>\n",
       "      <td>194004.549114</td>\n",
       "      <td>149325.552113</td>\n",
       "      <td>214717.920548</td>\n",
       "      <td>13372.177847</td>\n",
       "      <td>1.788151e+08</td>\n",
       "      <td>-0.824149</td>\n",
       "      <td>0.694542</td>\n",
       "      <td>18.326404</td>\n",
       "      <td>-9.163202</td>\n",
       "      <td>2247</td>\n",
       "    </tr>\n",
       "    <tr>\n",
       "      <th>796</th>\n",
       "      <td>285701.158252</td>\n",
       "      <td>284697.611521</td>\n",
       "      <td>118401.111153</td>\n",
       "      <td>456973.042700</td>\n",
       "      <td>64165.276738</td>\n",
       "      <td>4.117183e+09</td>\n",
       "      <td>0.228767</td>\n",
       "      <td>-0.326074</td>\n",
       "      <td>24.030493</td>\n",
       "      <td>-12.015247</td>\n",
       "      <td>42154</td>\n",
       "    </tr>\n",
       "    <tr>\n",
       "      <th>797</th>\n",
       "      <td>287911.523148</td>\n",
       "      <td>286234.551419</td>\n",
       "      <td>118530.660622</td>\n",
       "      <td>407168.808085</td>\n",
       "      <td>41971.664507</td>\n",
       "      <td>1.761621e+09</td>\n",
       "      <td>0.084164</td>\n",
       "      <td>-0.319896</td>\n",
       "      <td>23.677859</td>\n",
       "      <td>-11.838929</td>\n",
       "      <td>33445</td>\n",
       "    </tr>\n",
       "    <tr>\n",
       "      <th>798</th>\n",
       "      <td>213977.735532</td>\n",
       "      <td>190462.095798</td>\n",
       "      <td>107308.650051</td>\n",
       "      <td>358025.496935</td>\n",
       "      <td>66646.807769</td>\n",
       "      <td>4.441797e+09</td>\n",
       "      <td>0.546717</td>\n",
       "      <td>-1.008389</td>\n",
       "      <td>23.853941</td>\n",
       "      <td>-11.926971</td>\n",
       "      <td>42903</td>\n",
       "    </tr>\n",
       "    <tr>\n",
       "      <th>799</th>\n",
       "      <td>163564.198629</td>\n",
       "      <td>171982.316583</td>\n",
       "      <td>87794.679179</td>\n",
       "      <td>242903.601809</td>\n",
       "      <td>37734.674029</td>\n",
       "      <td>1.423906e+09</td>\n",
       "      <td>0.080804</td>\n",
       "      <td>-1.044929</td>\n",
       "      <td>22.998146</td>\n",
       "      <td>-11.499073</td>\n",
       "      <td>25426</td>\n",
       "    </tr>\n",
       "  </tbody>\n",
       "</table>\n",
       "<p>800 rows × 11 columns</p>\n",
       "</div>"
      ],
      "text/plain": [
       "              MEAN            MED            MIN            MAX           STD  \\\n",
       "0    375360.503664  378831.032486  -25212.644397  404458.558442  19148.071055   \n",
       "1    414545.406197  413947.983165  367322.652605  475720.249705  30325.434445   \n",
       "2    357804.430349  365321.709630  272774.357528  415386.030442  38342.335960   \n",
       "3    270967.004896  266974.123043  118824.844400  426344.200570  35526.441049   \n",
       "4    292836.248774  293589.005572  118920.693012  346159.579310  30110.284158   \n",
       "..             ...            ...            ...            ...           ...   \n",
       "795  192054.013798  194004.549114  149325.552113  214717.920548  13372.177847   \n",
       "796  285701.158252  284697.611521  118401.111153  456973.042700  64165.276738   \n",
       "797  287911.523148  286234.551419  118530.660622  407168.808085  41971.664507   \n",
       "798  213977.735532  190462.095798  107308.650051  358025.496935  66646.807769   \n",
       "799  163564.198629  171982.316583   87794.679179  242903.601809  37734.674029   \n",
       "\n",
       "              VAR       SKW       KURT         SE        LEE  PEAKS  \n",
       "0    3.666486e+08 -3.998082  68.427342  18.813147  -9.406574   2825  \n",
       "1    9.196320e+08  0.453521  -0.827522  17.750236  -8.875118   1714  \n",
       "2    1.470135e+09 -0.601898  -0.661127  19.267139  -9.633569   3690  \n",
       "3    1.262128e+09  0.131543  -1.228120  18.464975  -9.232487   2405  \n",
       "4    9.066292e+08 -0.337374  -0.406457  19.332744  -9.666372   3625  \n",
       "..            ...       ...        ...        ...        ...    ...  \n",
       "795  1.788151e+08 -0.824149   0.694542  18.326404  -9.163202   2247  \n",
       "796  4.117183e+09  0.228767  -0.326074  24.030493 -12.015247  42154  \n",
       "797  1.761621e+09  0.084164  -0.319896  23.677859 -11.838929  33445  \n",
       "798  4.441797e+09  0.546717  -1.008389  23.853941 -11.926971  42903  \n",
       "799  1.423906e+09  0.080804  -1.044929  22.998146 -11.499073  25426  \n",
       "\n",
       "[800 rows x 11 columns]"
      ]
     },
     "execution_count": 22,
     "metadata": {},
     "output_type": "execute_result"
    }
   ],
   "source": [
    "data"
   ]
  },
  {
   "cell_type": "code",
   "execution_count": 23,
   "metadata": {
    "scrolled": true
   },
   "outputs": [
    {
     "data": {
      "text/html": [
       "<div>\n",
       "<style scoped>\n",
       "    .dataframe tbody tr th:only-of-type {\n",
       "        vertical-align: middle;\n",
       "    }\n",
       "\n",
       "    .dataframe tbody tr th {\n",
       "        vertical-align: top;\n",
       "    }\n",
       "\n",
       "    .dataframe thead th {\n",
       "        text-align: right;\n",
       "    }\n",
       "</style>\n",
       "<table border=\"1\" class=\"dataframe\">\n",
       "  <thead>\n",
       "    <tr style=\"text-align: right;\">\n",
       "      <th></th>\n",
       "      <th>AV</th>\n",
       "    </tr>\n",
       "  </thead>\n",
       "  <tbody>\n",
       "    <tr>\n",
       "      <th>0</th>\n",
       "      <td>LAHV</td>\n",
       "    </tr>\n",
       "    <tr>\n",
       "      <th>1</th>\n",
       "      <td>LAHV</td>\n",
       "    </tr>\n",
       "    <tr>\n",
       "      <th>2</th>\n",
       "      <td>HALV</td>\n",
       "    </tr>\n",
       "    <tr>\n",
       "      <th>3</th>\n",
       "      <td>LAHV</td>\n",
       "    </tr>\n",
       "    <tr>\n",
       "      <th>4</th>\n",
       "      <td>HALV</td>\n",
       "    </tr>\n",
       "    <tr>\n",
       "      <th>...</th>\n",
       "      <td>...</td>\n",
       "    </tr>\n",
       "    <tr>\n",
       "      <th>783</th>\n",
       "      <td>HAHV</td>\n",
       "    </tr>\n",
       "    <tr>\n",
       "      <th>784</th>\n",
       "      <td>HALV</td>\n",
       "    </tr>\n",
       "    <tr>\n",
       "      <th>785</th>\n",
       "      <td>LAHV</td>\n",
       "    </tr>\n",
       "    <tr>\n",
       "      <th>786</th>\n",
       "      <td>HAHV</td>\n",
       "    </tr>\n",
       "    <tr>\n",
       "      <th>787</th>\n",
       "      <td>HAHV</td>\n",
       "    </tr>\n",
       "  </tbody>\n",
       "</table>\n",
       "<p>788 rows × 1 columns</p>\n",
       "</div>"
      ],
      "text/plain": [
       "       AV\n",
       "0    LAHV\n",
       "1    LAHV\n",
       "2    HALV\n",
       "3    LAHV\n",
       "4    HALV\n",
       "..    ...\n",
       "783  HAHV\n",
       "784  HALV\n",
       "785  LAHV\n",
       "786  HAHV\n",
       "787  HAHV\n",
       "\n",
       "[788 rows x 1 columns]"
      ]
     },
     "execution_count": 23,
     "metadata": {},
     "output_type": "execute_result"
    }
   ],
   "source": [
    "label_data"
   ]
  },
  {
   "cell_type": "code",
   "execution_count": 24,
   "metadata": {},
   "outputs": [],
   "source": [
    "remove32 = data.drop(index = [636,637,638,639]) # 32번 참가자의 label 데이터가 없으므로 삭제하여 데이터 수 맞춰줌\n",
    "feature_data = remove32.dropna(axis=0) # GSR 신호가 없는 행 삭제 \n",
    "label = label_data.drop(index = [548,549,550,551]) # 28번 참가자의 GSR신호가 없으므로 해당 동영상 label 삭제하여 데이터 수 맞춰줌"
   ]
  },
  {
   "cell_type": "code",
   "execution_count": 25,
   "metadata": {},
   "outputs": [],
   "source": [
    "X = feature_data.values\n",
    "y = label.values"
   ]
  },
  {
   "cell_type": "code",
   "execution_count": 26,
   "metadata": {},
   "outputs": [],
   "source": [
    "X_train, X_test, y_train, y_test = train_test_split(X, y, test_size = 0.2, random_state = 123)"
   ]
  },
  {
   "cell_type": "code",
   "execution_count": 27,
   "metadata": {},
   "outputs": [
    {
     "name": "stdout",
     "output_type": "stream",
     "text": [
      "0.3397968253968254\n",
      "              precision    recall  f1-score   support\n",
      "\n",
      "        HAHV       0.37      0.80      0.50        51\n",
      "        HALV       0.29      0.23      0.26        47\n",
      "        LAHV       0.67      0.09      0.16        43\n",
      "        LALV       0.00      0.00      0.00        16\n",
      "\n",
      "    accuracy                           0.36       157\n",
      "   macro avg       0.33      0.28      0.23       157\n",
      "weighted avg       0.39      0.36      0.29       157\n",
      "\n"
     ]
    }
   ],
   "source": [
    "from sklearn.pipeline import Pipeline\n",
    "from sklearn.preprocessing import StandardScaler\n",
    "from sklearn.svm import LinearSVC\n",
    "\n",
    "SVCpipe = Pipeline([('scale', StandardScaler()),\n",
    "                  ('SVC',LinearSVC())])\n",
    "\n",
    "\n",
    "param_grid = {'SVC__C':np.arange(0.01,200,1)}\n",
    "grid = GridSearchCV(SVCpipe,param_grid, cv=5,return_train_score=True)\n",
    "grid.fit(X_train,y_train)\n",
    "print(grid.best_score_)\n",
    "y_pred = grid.predict(X_test)\n",
    "\n",
    "print(classification_report(y_test, y_pred))"
   ]
  },
  {
   "cell_type": "code",
   "execution_count": 28,
   "metadata": {},
   "outputs": [
    {
     "name": "stdout",
     "output_type": "stream",
     "text": [
      "              precision    recall  f1-score   support\n",
      "\n",
      "        HAHV       0.37      0.80      0.50        51\n",
      "        HALV       0.29      0.23      0.26        47\n",
      "        LAHV       0.67      0.09      0.16        43\n",
      "        LALV       0.00      0.00      0.00        16\n",
      "\n",
      "    accuracy                           0.36       157\n",
      "   macro avg       0.33      0.28      0.23       157\n",
      "weighted avg       0.39      0.36      0.29       157\n",
      "\n"
     ]
    }
   ],
   "source": [
    "y_pred = grid.predict(X_test)\n",
    "\n",
    "print(classification_report(y_test, y_pred))"
   ]
  },
  {
   "cell_type": "code",
   "execution_count": 29,
   "metadata": {},
   "outputs": [],
   "source": [
    "train_scores = []\n",
    "test_scores = []\n",
    "\n",
    "C_range = range(1, 100, 10)\n",
    "for c in C_range:\n",
    "    SVCpipe.C = c\n",
    "    SVCpipe.fit(X_train, y_train)\n",
    "    train_scores.append(SVCpipe.score(X_train, y_train))\n",
    "    test_scores.append(SVCpipe.score(X_test, y_test))"
   ]
  },
  {
   "cell_type": "code",
   "execution_count": 30,
   "metadata": {},
   "outputs": [
    {
     "data": {
      "text/plain": [
       "<matplotlib.legend.Legend at 0x276cc6c6cd0>"
      ]
     },
     "execution_count": 30,
     "metadata": {},
     "output_type": "execute_result"
    },
    {
     "data": {
      "image/png": "[encoded data removed]",
      "text/plain": [
       "<Figure size 432x288 with 1 Axes>"
      ]
     },
     "metadata": {
      "needs_background": "light"
     },
     "output_type": "display_data"
    }
   ],
   "source": [
    "plt.plot(C_range, test_scores, label=\"test scores\")\n",
    "plt.plot(C_range, train_scores, label=\"train scores\")\n",
    "plt.ylabel(\"accuracy\")\n",
    "plt.xlabel(\"n_estimators\")\n",
    "plt.legend()\n"
   ]
  },
  {
   "cell_type": "code",
   "execution_count": 31,
   "metadata": {},
   "outputs": [
    {
     "name": "stdout",
     "output_type": "stream",
     "text": [
      "{'RandomForest__max_depth': 6, 'RandomForest__n_estimators': 75}\n",
      "0.4769904761904762\n"
     ]
    }
   ],
   "source": [
    "from sklearn.ensemble import RandomForestClassifier\n",
    "from sklearn.model_selection import cross_val_score\n",
    "from sklearn.metrics import accuracy_score\n",
    "\n",
    "\n",
    "rf = Pipeline([('scale', RobustScaler()),\n",
    "('RandomForest',RandomForestClassifier(random_state = 0))])\n",
    "\n",
    "\n",
    "param_grid = {'RandomForest__n_estimators': np.arange(10,120,5),'RandomForest__max_depth': np.arange(3,7)}\n",
    "grid = GridSearchCV(rf,param_grid, cv=5,return_train_score=True)\n",
    "\n",
    "grid.fit(X_train,y_train)\n",
    "print(grid.best_params_)\n",
    "print(grid.best_score_)\n"
   ]
  },
  {
   "cell_type": "code",
   "execution_count": 32,
   "metadata": {},
   "outputs": [
    {
     "name": "stdout",
     "output_type": "stream",
     "text": [
      "              precision    recall  f1-score   support\n",
      "\n",
      "        HAHV       0.47      0.55      0.50        51\n",
      "        HALV       0.61      0.79      0.69        47\n",
      "        LAHV       0.42      0.26      0.32        43\n",
      "        LALV       0.30      0.19      0.23        16\n",
      "\n",
      "    accuracy                           0.50       157\n",
      "   macro avg       0.45      0.44      0.43       157\n",
      "weighted avg       0.48      0.50      0.48       157\n",
      "\n"
     ]
    }
   ],
   "source": [
    "y_pred = grid.predict(X_test)\n",
    "\n",
    "print(classification_report(y_test, y_pred))"
   ]
  },
  {
   "cell_type": "code",
   "execution_count": 33,
   "metadata": {},
   "outputs": [
    {
     "data": {
      "text/plain": [
       "RandomForestClassifier(random_state=0)"
      ]
     },
     "execution_count": 33,
     "metadata": {},
     "output_type": "execute_result"
    }
   ],
   "source": [
    "rf = RandomForestClassifier(random_state=0)\n",
    "rf.fit(X_train,y_train)\n"
   ]
  },
  {
   "cell_type": "code",
   "execution_count": 34,
   "metadata": {},
   "outputs": [],
   "source": [
    "train_scores = []\n",
    "test_scores = []\n",
    "\n",
    "estimator_range = range(1, 100, 5)\n",
    "for n_estimators in estimator_range:\n",
    "    rf.n_estimators = n_estimators\n",
    "    rf.fit(X_train, y_train)\n",
    "    train_scores.append(rf.score(X_train, y_train))\n",
    "    test_scores.append(rf.score(X_test, y_test))"
   ]
  },
  {
   "cell_type": "code",
   "execution_count": 35,
   "metadata": {},
   "outputs": [
    {
     "data": {
      "text/plain": [
       "<matplotlib.legend.Legend at 0x276cc681190>"
      ]
     },
     "execution_count": 35,
     "metadata": {},
     "output_type": "execute_result"
    },
    {
     "data": {
      "image/png": "[encoded data removed]",
      "text/plain": [
       "<Figure size 432x288 with 1 Axes>"
      ]
     },
     "metadata": {
      "needs_background": "light"
     },
     "output_type": "display_data"
    }
   ],
   "source": [
    "plt.plot(estimator_range, test_scores, label=\"test scores\")\n",
    "plt.plot(estimator_range, train_scores, label=\"train scores\")\n",
    "plt.ylabel(\"accuracy\")\n",
    "plt.xlabel(\"n_estimators\")\n",
    "plt.legend()\n"
   ]
  },
  {
   "cell_type": "code",
   "execution_count": null,
   "metadata": {},
   "outputs": [],
   "source": []
  }
 ],
 "metadata": {
  "kernelspec": {
   "display_name": "Python 3",
   "language": "python",
   "name": "python3"
  },
  "language_info": {
   "codemirror_mode": {
    "name": "ipython",
    "version": 3
   },
   "file_extension": ".py",
   "mimetype": "text/x-python",
   "name": "python",
   "nbconvert_exporter": "python",
   "pygments_lexer": "ipython3",
   "version": "3.8.3"
  }
 },
 "nbformat": 4,
 "nbformat_minor": 4
}
